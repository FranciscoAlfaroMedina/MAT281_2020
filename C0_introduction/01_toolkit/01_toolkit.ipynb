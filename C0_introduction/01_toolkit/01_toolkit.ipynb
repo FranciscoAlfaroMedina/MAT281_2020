{
 "cells": [
  {
   "cell_type": "markdown",
   "metadata": {},
   "source": [
    "<img src=\"images/usm.jpg\" width=\"480\" height=\"240\" align=\"left\"/>"
   ]
  },
  {
   "cell_type": "markdown",
   "metadata": {},
   "source": [
    "# MAT281 - Data Science Toolkit"
   ]
  },
  {
   "cell_type": "markdown",
   "metadata": {},
   "source": [
    "## Objetivos \n",
    "\n",
    "* Aprender sobre herramientas básicas que se ocuparan a lo alrgo del curso.\n"
   ]
  },
  {
   "cell_type": "markdown",
   "metadata": {},
   "source": [
    "## Contenidos\n",
    "\n",
    "* [Sistema Operativo](#c1)\n",
    "* [Entorno Virtual](#c2)\n",
    "* [Python](#c3)\n",
    "* [Project Jupyter](#c4)\n",
    "* [Git](#c5)"
   ]
  },
  {
   "cell_type": "markdown",
   "metadata": {},
   "source": [
    "<a id='c1'></a>\n",
    "## I.- Sistema Operativo\n",
    "\n",
    "\n",
    "<img src=\"https://www.howtogeek.com/thumbcache/2/200/8b2cb8c7c5fc73604d66fd5f0c38be7a/wp-content/uploads/2018/08/img_5b68e80f77e33.png\" alt=\"\" align=\"center\"/>\n",
    "\n",
    "\n",
    "* Personalmente recomiendo **Linux**, en particular distribuciones como Ubuntu, Mint o Fedora por su facilidad a la hora de instalar.\n",
    "* En ocasiones las implementaciones en **Windows** no están completamente integradas e inclusive en ocasiones no están disponibles.\n",
    "    - Una alternativa es [**Windows Subsystem for Linux**](https://docs.microsoft.com/en-us/windows/wsl/about), pero lamentablemente no se asegura un 100% de compatibilidad.\n",
    "* En el caso que poseas un equipo con **macOS** no debería haber problema."
   ]
  },
  {
   "cell_type": "markdown",
   "metadata": {
    "slideshow": {
     "slide_type": "slide"
    }
   },
   "source": [
    "## Interfaz de Línea de Comandos (*Command Line Interface* / CLI)\n",
    "\n",
    "* Es un método que permite a los usuarios interactuar con algún programa informático por medio de líneas de texto.\n",
    "* Típicamente se hace uso de una terminal/*shell* (ver imagen).\n",
    "* En el día a día dentro de la oficina facilita flujo de trabajo.\n",
    "* Permite moverse entre manipular directorios y ficheros, instalar/actualizar herramientas, aplicaciones, softwares, etc."
   ]
  },
  {
   "cell_type": "markdown",
   "metadata": {
    "slideshow": {
     "slide_type": "-"
    }
   },
   "source": [
    "<img src=\"https://upload.wikimedia.org/wikipedia/commons/2/29/Linux_command-line._Bash._GNOME_Terminal._screenshot.png\" alt=\"\" align=\"center\"/>\n",
    "\n",
    "*Screenshot of a sample bash session in GNOME Terminal 3, Fedora 15. [Wikipedia](https://en.wikipedia.org/wiki/Command-line_interface)* "
   ]
  },
  {
   "cell_type": "markdown",
   "metadata": {
    "slideshow": {
     "slide_type": "slide"
    }
   },
   "source": [
    "<a id='c2'></a>\n",
    "## Entorno Virtual\n",
    "\n",
    "<img src=\"https://files.virgool.io/upload/users/63719/posts/bko9k535kg6q/j1xiuolo2c9c.png\" alt=\"\" align=\"center\"/>\n",
    "\n",
    "\n",
    "__Problemas recurrentes:__\n",
    "- Dependencias de librerías (*packages*) incompatibles.\n",
    "- Dificultad a la hora de compartir y reproducir resultados, e.g. no conocer las versiones de las librerías instaladas.\n",
    "- Tener una máquina virtual para cada desarrollo es tedioso y costoso.\n",
    "- Miedo constante a instalar algo nuevo y tu script vuelva a funcionar."
   ]
  },
  {
   "cell_type": "markdown",
   "metadata": {
    "slideshow": {
     "slide_type": "subslide"
    }
   },
   "source": [
    "#### Solución \n",
    "\n",
    "Aislar el desarrollo con tal de mejorar la compatibilidad y reproducibilidad de resultados. "
   ]
  },
  {
   "cell_type": "markdown",
   "metadata": {
    "slideshow": {
     "slide_type": "slide"
    }
   },
   "source": [
    "<a id='c3'></a>\n",
    "## Python\n",
    "\n",
    "<img src=\"https://wordsofthislife.com/wp-content/uploads/2013/11/python_icon-1.png\" alt=\"\" width=\"300\" height=\"300\" align=\"center\"/>\n",
    "\n",
    "Las principales librerías científicas a instalar y que ocuparemos durante el curso son:\n",
    "\n",
    "* [Numpy](http://www.numpy.org/): Computación científica.\n",
    "* [Pandas](https://pandas.pydata.org/): Análisis de datos.\n",
    "* [Matplotlib](https://matplotlib.org/): Visualización.\n",
    "* [Scikit-Learn](http://scikit-learn.org/stable/): Machine Learning\n",
    "\n",
    "Durante el curso se ocuparán más librerías a modo de complementación (ejemplo, scipy, seaborn, statsmodels ,etc.)"
   ]
  },
  {
   "cell_type": "markdown",
   "metadata": {},
   "source": [
    "####  Para el curso (es recomendable)\n",
    "\n",
    "![Conda](https://conda.io/docs/_images/conda_logo.svg)\n",
    "\n",
    "*Package, dependency and environment management for any language—Python, R, Ruby, Lua, Scala, Java, JavaScript, C/ C++, FORTRAN.* [(Link)](https://conda.io/docs/)"
   ]
  },
  {
   "cell_type": "markdown",
   "metadata": {},
   "source": [
    "#### ¿Por qué Conda?\n",
    "\n",
    "* Open Source\n",
    "* Gestor de librerías __y__ entornos virtuales. \n",
    "* Compatible con Linux, Windows y macOS.\n",
    "* Es agnóstico al lenguaje de programación (inicialmente fue desarrollado para Python).\n",
    "* Es de fácil instalación y uso."
   ]
  },
  {
   "cell_type": "markdown",
   "metadata": {},
   "source": [
    "### Instalación\n",
    "\n",
    "Toda la documentación se encuentra en este [link](https://docs.conda.io/projects/conda/en/latest/user-guide/install/index.html), pero en resumen:\n",
    "\n",
    "* Existe Anaconda y Miniconda, ambas contienen conda.\n",
    "    - Anaconda es una distribución que incluye una artillería de librerías científicas.\n",
    "    - Miniconda es para realizar una instalación mínima de conda sin adicionales (recomendada).\n",
    "* Descarga e instala **Miniconda3** (Python3) según tu sistena operativo.\n",
    "* En la instalación se te preguntará: __Do you wish the installer to initialize Anaconda3 by running conda init?__ Recomiendo aceptar, luego cerrar la terminal, abrir una nueva y ejecutar:\n",
    "`conda config --set auto_activate_base false`\n",
    "* Test: \n",
    "    ```conda --version```"
   ]
  },
  {
   "cell_type": "code",
   "execution_count": 1,
   "metadata": {},
   "outputs": [
    {
     "name": "stdout",
     "output_type": "stream",
     "text": [
      "conda 4.8.3\n"
     ]
    }
   ],
   "source": [
    "!conda --version"
   ]
  },
  {
   "cell_type": "markdown",
   "metadata": {
    "slideshow": {
     "slide_type": "slide"
    }
   },
   "source": [
    "<a id='c4'></a>\n",
    "## Project Jupyter \n",
    "\n",
    "[Project Jupyter](https://jupyter.org/index.html) exists to develop open-source software, open-standards, and services for interactive computing across dozens of programming languages.*\n",
    "\n",
    "<img src=\"https://2.bp.blogspot.com/-Q23VBETHLS0/WN_lgpxinkI/AAAAAAAAA-k/f3DJQfBre0QD5rwMWmGIGhBGjU40MTAxQCLcB/s1600/jupyter.png\" alt=\"\" width=\"360\" height=\"360\" align=\"center\"/>"
   ]
  },
  {
   "cell_type": "markdown",
   "metadata": {
    "slideshow": {
     "slide_type": "subslide"
    }
   },
   "source": [
    "### Jupyter Notebook\n",
    "\n",
    "Es una aplicación web que permite crear y compartir documentos que contienen código, ecuaciones, visualizaciones y texto. Entre sus usos se encuentra:\n",
    "\n",
    "* Limpieza de datos\n",
    "* Transformación de datos\n",
    "* Simulaciones numéricas\n",
    "* Modelamiendo Estadístico\n",
    "* Visualización de Datos\n",
    "* Machine Learning\n",
    "* Mucho más."
   ]
  },
  {
   "cell_type": "markdown",
   "metadata": {
    "slideshow": {
     "slide_type": "subslide"
    }
   },
   "source": [
    "![Jupyter Notebook Example](https://jupyter.org/assets/jupyterpreview.png)"
   ]
  },
  {
   "cell_type": "markdown",
   "metadata": {
    "slideshow": {
     "slide_type": "subslide"
    }
   },
   "source": [
    "### Jupyter Lab\n",
    "\n",
    "* Es la siguiente generación de la interfaz de usuario de *Project Jupyter*.\n",
    "* Similar a Jupyter Notebook cuenta con la facilidad de editar archivos .ipynb (notebooks) y heramientas como una terminal, editor de texto, explorador de archivos, etc.\n",
    "* Eventualmente Jupyter Lab reemplazará a Jupyter Notebok (aunque la versión estable fue liberada hace algunos meses).\n",
    "* Cuenta con una serie de extensiones que puedes instalar (y desarrollar inclurisve.\n",
    "\n",
    "Puedes probar Jupyter Lab con solo dos clicks!\n",
    "\n",
    "1. Ingresar a este link: https://github.com/jupyterlab/jupyterlab-demo\n",
    "2. Hacer click en el icono de binder:  ![Binder](https://mybinder.org/badge_logo.svg)"
   ]
  },
  {
   "cell_type": "markdown",
   "metadata": {
    "slideshow": {
     "slide_type": "slide"
    }
   },
   "source": [
    "<a id='c5'></a>\n",
    "## Git\n",
    "\n",
    "<img src=\"https://static.platzi.com/media/user_upload/Beginners_guide_setting_up-git-a4bacd39-5be0-4ae4-a956-5117c18efa94.jpg\" alt=\"\" width=\"240\" height=\"240\" align=\"center\"/>\n",
    "\n",
    "_[__Git__](https://git-scm.com/) is a free and open source distributed version control system designed to handle everything from small to very large projects with speed and efficiency._"
   ]
  },
  {
   "cell_type": "markdown",
   "metadata": {
    "slideshow": {
     "slide_type": "subslide"
    }
   },
   "source": [
    "### Instalación de Git\n",
    "\n",
    "No es nada del otro mundo, basta con seguir las instrucciones de la página oficial en este [link](https://git-scm.com/book/en/v2/Getting-Started-Installing-Git). "
   ]
  },
  {
   "cell_type": "markdown",
   "metadata": {
    "slideshow": {
     "slide_type": "subslide"
    }
   },
   "source": [
    "### Configuración de Git\n",
    "\n",
    "No es un paso crucial, pero si en el futuro quieres tener tu propio repositorio o contribuir en otros proyectos, debes tener una identidad. \n",
    "\n",
    "Lo primero es configurar git, la [documentación oficial](https://git-scm.com/book/es/v1/Empezando-Configurando-Git-por-primera-vez) incluso está en español. Con configurar tu ```email``` y ```username``` debería bastar en una primera instancia.\n",
    "\n",
    "Lo siguiente es tener una cuenta en la plataforma que utilizarás. Algunas de ellas son:\n",
    "\n"
   ]
  },
  {
   "cell_type": "markdown",
   "metadata": {
    "slideshow": {
     "slide_type": "subslide"
    }
   },
   "source": [
    "### a) GitHub\n",
    "\n",
    "<img src=\"https://miro.medium.com/max/1125/1*wotzQboYWAfaj-7bvGNIkQ.png\" alt=\"\" width=\"360\" height=\"360\" align=\"center\"/>\n",
    "\n",
    "\n",
    "\n",
    "[GitHub](https://github.com/) is a development platform inspired by the way you work. From open source to business, you can host and review code, manage projects, and build software alongside 30 million developers.\n",
    "\n",
    "\n",
    "### b) GitLab \n",
    "\n",
    "<img src=\"https://upload.wikimedia.org/wikipedia/commons/thumb/1/18/GitLab_Logo.svg/1200px-GitLab_Logo.svg.png\" alt=\"\" width=\"200\" height=\"200\" align=\"center\"/>\n",
    "\n",
    "\n",
    "\n",
    "\n",
    "[Gitlab](https://gitlab.com/) GitLab is an open core company which develops software for the software development lifecycle used by more than 100,000 organizations and has an active community of more than 2200 contributors. \n",
    "\n",
    "\n",
    "Tanto github como gitlab son plataformas para alojar proyectos que utilizan Git como sistema de control."
   ]
  },
  {
   "cell_type": "markdown",
   "metadata": {},
   "source": [
    "### Repositorio del curso\n",
    "\n",
    "El **material del curso** estará disponible a través de GitLab en el siguiente link: \n",
    "[MAT281_2020](https://github.com/FranciscoAlfaroMedina/MAT281_2020)\n",
    "\n",
    "\n",
    "\n",
    "\n",
    "Uno de los objetivos del curso es que familiarices con git y un buen punto de partida es configurar tu computador personal para interactuar con GitHub/GitLab.\n",
    "\n",
    "1. Crea una cuenta en GitHub/GitLab.\n",
    "\n",
    "2. En tu terminal configurar tu usuario y correo electrónico global de git (más adelante puedes modificar repositorios localmente).\n",
    "    1. `$ git config --global user.name \"Your name here\"`\n",
    "    2. `$ git config --global user.email \"your_email@example.com\"`\n",
    "    \n",
    "    \n",
    "3. Conectar tu entorno de trabajo (computador) con tu cuenta de GitHub/GitLab a través de SSH (opcional)."
   ]
  },
  {
   "cell_type": "markdown",
   "metadata": {
    "slideshow": {
     "slide_type": "slide"
    }
   },
   "source": [
    "## Manos a la obra\n",
    "\n",
    "1. En la terminal (de git si es el caso) debes `moverte` hasta donde quieras guardar el material del curso. En lo personal me gusta crear una carpeta llamada __git__ en __Documents__. Los pasos serían:\n",
    "    * Abrir terminal\n",
    "    * ```cd ~/Documents```\n",
    "    * ```mkdir git``` \n",
    "    * `cd git`\n",
    "    \n",
    "\n",
    "2. Clonar el repositorio del curso, ejecutando la siguiente línea de comando en la ruta deseada (en mi caso *~/Documents/git*): \n",
    "\n",
    "    1. Si utilizas SSH: ```git clone git@github.com:FranciscoAlfaroMedina/MAT281_2020.git``` \n",
    "    2. Si utilizas HTTPS: `git clone https://github.com/FranciscoAlfaroMedina/MAT281_2020.git`\n",
    "    3. Descargar el repositorio como ZIP y descomprimir (no recomendable ).\n",
    "\n",
    "\n",
    "3. En la terminal moverse hacia la carpeta del repositorio utilizando ```cd MAT281_2020``` (__tip__: Puedes usar ```TAB``` para autocompletar).\n",
    "\n",
    "\n",
    "4. En la terminal (Anaconda Prompt si estás utilizando Windows) crear un entorno virtual de conda a partir de un archivo de requisitos (llamado *mat281_modulo1*), ejecutando la siguiente línea de comando:\n",
    "\n",
    "    ```conda env create -f environment.yml```\n",
    "\n",
    "\n",
    "5. Activar el entorno: `conda activate mat281` \n",
    "\n",
    "\n",
    "6. Ejecutar:\n",
    "    - ```jupyter lab```, o\n",
    "    - ```jupyter notebook```\n",
    "    \n",
    "    \n",
    "7. Si no se abre automáticamente una nueva pestaña en tu navegador, copiar el link del token que se muestra en la terminal en tu navegador.\n",
    "\n",
    "8. Abrir el archivo ```C0_introduction/01_toolkit/01_toolkit.ipynb```."
   ]
  },
  {
   "cell_type": "markdown",
   "metadata": {},
   "source": [
    "## Referencia\n",
    "\n",
    "1. [La guía sensilla](https://rogerdudler.github.io/git-guide/index.es.html)\n",
    "2. [The Ultimate Linux Command Line Guide - Full Bash Tutorial](https://www.freecodecamp.org/news/linux-command-line-bash-tutorial/)"
   ]
  }
 ],
 "metadata": {
  "kernelspec": {
   "display_name": "Python 3",
   "language": "python",
   "name": "python3"
  },
  "language_info": {
   "codemirror_mode": {
    "name": "ipython",
    "version": 3
   },
   "file_extension": ".py",
   "mimetype": "text/x-python",
   "name": "python",
   "nbconvert_exporter": "python",
   "pygments_lexer": "ipython3",
   "version": "3.7.8"
  },
  "pycharm": {
   "stem_cell": {
    "cell_type": "raw",
    "metadata": {
     "collapsed": false
    },
    "source": []
   }
  }
 },
 "nbformat": 4,
 "nbformat_minor": 4
}
